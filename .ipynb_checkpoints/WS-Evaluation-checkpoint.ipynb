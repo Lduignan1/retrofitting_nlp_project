{
 "cells": [
  {
   "cell_type": "markdown",
   "id": "499f8b04",
   "metadata": {},
   "source": [
    "# Evaluating embeddings via the semantic similarity task"
   ]
  },
  {
   "cell_type": "code",
   "execution_count": 1,
   "id": "af2bb9d7",
   "metadata": {},
   "outputs": [],
   "source": [
    "# importing libraries \n",
    "import numpy as np\n",
    "import scipy\n",
    "from scipy import stats\n",
    "from numpy.linalg import norm"
   ]
  },
  {
   "cell_type": "markdown",
   "id": "ddd5f5cf",
   "metadata": {},
   "source": [
    "## Reading files "
   ]
  },
  {
   "cell_type": "code",
   "execution_count": 22,
   "id": "9db13f9a",
   "metadata": {},
   "outputs": [],
   "source": [
    "def read_embeddings(filename):\n",
    "    \"\"\"read a file containing word vectors and return their normalized forms in a dict\"\"\"\n",
    "    word_vecs = {}  # keys: str(words) ; values: np.array(normalized vectors)\n",
    "    with (gzip.open(filename, 'rt', encoding='utf-8') if filename.endswith('.gz') else open(filename, 'r', encoding='utf-8')) as file:  # 'rt' = open for reading as text file\n",
    "        for line in file:\n",
    "            elements = line.strip().split()\n",
    "            word = elements[0]\n",
    "            vec = np.array([float(val) for val in elements[1:]], dtype=float)\n",
    "            \n",
    "            # get Euclidean norm\n",
    "            vec_norm = np.linalg.norm(vec)\n",
    "            \n",
    "            # normalize vector\n",
    "            word_vecs[word] = vec / vec_norm\n",
    "\n",
    "    return word_vecs\n",
    "\n",
    "word_vecs_pretrain = read_embeddings(\"embeddings/vectors_datatxt_250_sg_w10_i5_c500_gensim_clean\")\n"
   ]
  },
  {
   "cell_type": "code",
   "execution_count": 3,
   "id": "959dbdf1",
   "metadata": {},
   "outputs": [],
   "source": [
    "word_vecs_retro = read_embeddings(\"embeddings/out_retrofitted_ppdb_250.txt\")"
   ]
  },
  {
   "cell_type": "code",
   "execution_count": 4,
   "id": "79a6e7f7",
   "metadata": {},
   "outputs": [
    {
     "name": "stdout",
     "output_type": "stream",
     "text": [
      "similiarity between pred embedding and `queen` embedding:  0.85\n"
     ]
    }
   ],
   "source": [
    "q_hat_king = word_vecs_pretrain[\"king\"]\n",
    "q_hat_man = word_vecs_pretrain[\"man\"]\n",
    "q_hat_woman = word_vecs_pretrain[\"woman\"]\n",
    "\n",
    "\n",
    "q_pred = q_hat_king - q_hat_man + q_hat_woman\n",
    "\n",
    "q_hat_queen = word_vecs_pretrain[\"queen\"]\n",
    "\n",
    "print(f\"similiarity between pred embedding and `queen` embedding: {np.dot(q_pred, q_hat_queen): .2}\")"
   ]
  },
  {
   "cell_type": "code",
   "execution_count": 5,
   "id": "d7e82d09",
   "metadata": {},
   "outputs": [
    {
     "name": "stdout",
     "output_type": "stream",
     "text": [
      "similiarity between pred embedding and `queen` retrofitted embedding:  0.85\n"
     ]
    }
   ],
   "source": [
    "q_king = word_vecs_retro[\"king\"]\n",
    "q_man = word_vecs_retro[\"man\"]\n",
    "q_woman = word_vecs_retro[\"woman\"]\n",
    "\n",
    "\n",
    "q_pred = q_king - q_man + q_woman\n",
    "\n",
    "q_queen = word_vecs_retro[\"queen\"]\n",
    "\n",
    "print(f\"similiarity between pred embedding and `queen` retrofitted embedding: {np.dot(q_pred, q_queen): .2}\")"
   ]
  },
  {
   "cell_type": "code",
   "execution_count": 6,
   "id": "b546b103",
   "metadata": {},
   "outputs": [
    {
     "name": "stdout",
     "output_type": "stream",
     "text": [
      "similarity between `costly` and `pricey` before retrofitting:  0.44\n"
     ]
    }
   ],
   "source": [
    "q_hat_costly = word_vecs_pretrain[\"costly\"]\n",
    "\n",
    "q_hat_pricey = word_vecs_pretrain[\"pricey\"]\n",
    "\n",
    "print(f\"similarity between `costly` and `pricey` before retrofitting: {np.dot(q_hat_costly, q_hat_pricey): .2}\")"
   ]
  },
  {
   "cell_type": "code",
   "execution_count": 7,
   "id": "758aa9b5",
   "metadata": {},
   "outputs": [
    {
     "name": "stdout",
     "output_type": "stream",
     "text": [
      "similarity between `costly` and `pricey` after retrofitting:  0.78\n"
     ]
    }
   ],
   "source": [
    "q_costly = word_vecs_retro[\"costly\"]\n",
    "\n",
    "q_pricey = word_vecs_retro[\"pricey\"]\n",
    "\n",
    "print(f\"similarity between `costly` and `pricey` after retrofitting: {np.dot(q_costly, q_pricey): .2}\")"
   ]
  },
  {
   "cell_type": "code",
   "execution_count": 23,
   "id": "f379cc31",
   "metadata": {},
   "outputs": [],
   "source": [
    "def get_X_Y(filename, word_vecs):\n",
    "    \"\"\"read a word similarity file and return arrays containing human scores and system scores respectively\"\"\"\n",
    "    with open(filename, \"r\", encoding='utf-8') as file:\n",
    "        \n",
    "        X = [] # human scores\n",
    "        Y = [] # system scores\n",
    "        for line in file:\n",
    "            \n",
    "            line = line.strip().split()\n",
    "     \n",
    "            # skip words we don't have embeddings for\n",
    "            if line[0] not in word_vecs or line[1] not in word_vecs:\n",
    "                continue\n",
    "                \n",
    "            # human score is last element in line\n",
    "            X.append(float(line[-1]))\n",
    "                        \n",
    "            # get dot product since vectors already normalized\n",
    "            Y.append(np.dot(word_vecs[line[0]], word_vecs[line[1]]))\n",
    "            \n",
    "    return np.array(X), np.array(Y)\n",
    "    \n",
    "X, Y_pretrain = get_X_Y(\"datasets/ws353.txt\", word_vecs_pretrain)\n",
    "X, Y_retro = get_X_Y(\"datasets/ws353.txt\", word_vecs_retro)"
   ]
  },
  {
   "cell_type": "code",
   "execution_count": 9,
   "id": "3dffceea",
   "metadata": {},
   "outputs": [
    {
     "name": "stdout",
     "output_type": "stream",
     "text": [
      "(335,)\n",
      "(335,)\n"
     ]
    }
   ],
   "source": [
    "print(Y_retro.shape)\n",
    "print(X.shape)"
   ]
  },
  {
   "cell_type": "markdown",
   "id": "69ac98ad",
   "metadata": {},
   "source": [
    "## Using `scipy.stats.spearmanr` to compute and compare word similarities"
   ]
  },
  {
   "cell_type": "code",
   "execution_count": 10,
   "id": "3a4945b7",
   "metadata": {},
   "outputs": [
    {
     "name": "stdout",
     "output_type": "stream",
     "text": [
      "Spearman's correlation (original vectors):  0.69\n",
      "Spearman's correlation (retrofitted vectors) (ppdb):  0.64\n"
     ]
    }
   ],
   "source": [
    "# computing Spearman correlation coefficient for pretrained vectors and retrofitted ppdb vectors\n",
    "res_pretrain = scipy.stats.spearmanr(X, Y_pretrain)\n",
    "\n",
    "res_retro = scipy.stats.spearmanr(X, Y_retro)\n",
    "\n",
    "print(f\"Spearman's correlation (original vectors): {res_pretrain[0]: .2}\")\n",
    "print(f\"Spearman's correlation (retrofitted vectors) (ppdb): {res_retro[0]: .2}\")"
   ]
  },
  {
   "cell_type": "code",
   "execution_count": 11,
   "id": "393e8c1e",
   "metadata": {},
   "outputs": [
    {
     "name": "stdout",
     "output_type": "stream",
     "text": [
      "Spearman's correlation (retrofitted vectors) (wn_syn):  0.64\n"
     ]
    }
   ],
   "source": [
    "word_vecs_retro_wn_syn = read_embeddings(\"embeddings/out_retrofitted_wn_syn_250.txt\")\n",
    "X, Y_retro_wn_syn = get_X_Y(\"datasets/ws353.txt\", word_vecs_retro_wn_syn)\n",
    "res_retro_wn_syn = scipy.stats.spearmanr(X, Y_retro_wn_syn)\n",
    "\n",
    "print(f\"Spearman's correlation (retrofitted vectors) (wn_syn): {res_retro_wn_syn[0]: .2}\")"
   ]
  },
  {
   "cell_type": "code",
   "execution_count": 16,
   "id": "bbf83e64",
   "metadata": {},
   "outputs": [
    {
     "name": "stdout",
     "output_type": "stream",
     "text": [
      "Spearman's correlation (retrofitted vectors) (wn_all):  0.69\n"
     ]
    }
   ],
   "source": [
    "word_vecs_retro_wn_all = read_embeddings(\"embeddings/out_retrofitted_wn_all_250.txt\")\n",
    "X, Y_retro_wn_all = get_X_Y(\"datasets/ws353.txt\", word_vecs_retro_wn_all)\n",
    "res_retro_wn_all = scipy.stats.spearmanr(X, Y_retro_wn_all)\n",
    "\n",
    "print(f\"Spearman's correlation (retrofitted vectors) (wn_all): {res_retro_wn_all[0]: .2}\")"
   ]
  },
  {
   "cell_type": "markdown",
   "id": "b41cfb45",
   "metadata": {},
   "source": [
    "## Remarks"
   ]
  },
  {
   "cell_type": "markdown",
   "id": "bf1ef2ae",
   "metadata": {},
   "source": [
    "- Slight decrease in Spearman correlation when using ppdb but original pretrained vectors already correlate relatively highly\n",
    "- ppdb version 2.0 seems to be the cause"
   ]
  },
  {
   "cell_type": "markdown",
   "id": "3702bc29",
   "metadata": {},
   "source": [
    "## French data"
   ]
  },
  {
   "cell_type": "code",
   "execution_count": 13,
   "id": "a25a1f0b",
   "metadata": {},
   "outputs": [
    {
     "name": "stdout",
     "output_type": "stream",
     "text": [
      "Spearman's correlation (pretrained french vectors):  0.7\n"
     ]
    }
   ],
   "source": [
    "word_vecs_fr = read_embeddings(\"embeddings/vecs100-linear-frwiki\")\n",
    "X, Y = get_X_Y(\"datasets/rg65_french.txt\", word_vecs_fr)\n",
    "res_pretrain_fr = scipy.stats.spearmanr(X, Y)\n",
    "\n",
    "print(f\"Spearman's correlation (pretrained french vectors): {res_pretrain_fr[0]: .2}\")"
   ]
  },
  {
   "cell_type": "code",
   "execution_count": 14,
   "id": "baf23f3a",
   "metadata": {},
   "outputs": [
    {
     "name": "stdout",
     "output_type": "stream",
     "text": [
      "Spearman's correlation (retrofitted vectors) (fr_wn_syn):  0.63\n"
     ]
    }
   ],
   "source": [
    "word_vecs_fr_wn_syn = read_embeddings(\"embeddings/out_retrofitted_fr_wn_syn_100.txt\")\n",
    "X, Y_retro_wn_syn = get_X_Y(\"datasets/rg65_french.txt\", word_vecs_fr_wn_syn)\n",
    "res_retro_wn_syn = scipy.stats.spearmanr(X, Y_retro_wn_syn)\n",
    "\n",
    "print(f\"Spearman's correlation (retrofitted vectors) (fr_wn_syn): {res_retro_wn_syn[0]: .2}\")"
   ]
  },
  {
   "cell_type": "code",
   "execution_count": 15,
   "id": "21867813",
   "metadata": {},
   "outputs": [
    {
     "name": "stdout",
     "output_type": "stream",
     "text": [
      "Spearman's correlation (retrofitted vectors) (fr_wn_all):  0.67\n"
     ]
    }
   ],
   "source": [
    "word_vecs_fr_wn_all = read_embeddings(\"embeddings/out_retrofitted_fr_wn_all_100.txt\")\n",
    "X, Y_retro_wn_all = get_X_Y(\"datasets/rg65_french.txt\", word_vecs_fr_wn_all)\n",
    "res_retro_wn_all = scipy.stats.spearmanr(X, Y_retro_wn_all)\n",
    "\n",
    "print(f\"Spearman's correlation (retrofitted vectors) (fr_wn_all): {res_retro_wn_all[0]: .2}\")"
   ]
  },
  {
   "cell_type": "code",
   "execution_count": 24,
   "id": "d44b92e8",
   "metadata": {},
   "outputs": [
    {
     "name": "stdout",
     "output_type": "stream",
     "text": [
      "Spearman's correlation (retrofitted vectors) (ppdb):  0.73\n"
     ]
    }
   ],
   "source": [
    "word_vecs_fr_ppdb = read_embeddings(\"embeddings/out_retrofitted_fr_ppdb_100.txt\")\n",
    "X, Y_retro_ppdb = get_X_Y(\"datasets/rg65_french.txt\", word_vecs_fr_ppdb)\n",
    "res_retro_ppdb = scipy.stats.spearmanr(X, Y_retro_ppdb)\n",
    "\n",
    "print(f\"Spearman's correlation (retrofitted vectors) (ppdb): {res_retro_ppdb[0]: .2}\")"
   ]
  },
  {
   "cell_type": "code",
   "execution_count": null,
   "id": "515bffbf",
   "metadata": {},
   "outputs": [],
   "source": []
  }
 ],
 "metadata": {
  "kernelspec": {
   "display_name": "Python 3 (ipykernel)",
   "language": "python",
   "name": "python3"
  },
  "language_info": {
   "codemirror_mode": {
    "name": "ipython",
    "version": 3
   },
   "file_extension": ".py",
   "mimetype": "text/x-python",
   "name": "python",
   "nbconvert_exporter": "python",
   "pygments_lexer": "ipython3",
   "version": "3.10.9"
  }
 },
 "nbformat": 4,
 "nbformat_minor": 5
}
