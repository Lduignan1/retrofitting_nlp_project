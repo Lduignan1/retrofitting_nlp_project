{
 "cells": [
  {
   "cell_type": "markdown",
   "id": "5950bd1f",
   "metadata": {},
   "source": [
    "# Extracting paraphrase pairs from PPDB"
   ]
  },
  {
   "cell_type": "code",
   "execution_count": null,
   "id": "8e2091e8",
   "metadata": {},
   "outputs": [],
   "source": [
    "def read_ppdb(filename):\n",
    "    \"\"\"read a file containing the paraphrase database and return a dictionary\n",
    "    input: file or path\n",
    "    output: dict with phrase terms as keys and paraphrases as values\n",
    "    \"\"\"\n",
    "    lexicon = {}\n",
    "    \n",
    "    with open(filename, 'r', encoding='utf-8') as file:\n",
    "        for line in file:\n",
    "            line = line.split('|||')\n",
    "            \n",
    "            lexicon[line[1]] = line[2].split()\n",
    "            \n",
    "    return lexicon\n",
    "\n",
    "\n",
    "lexicon = read_ppdb('ppdb-2.0-tldr')\n",
    "\n",
    "lexicon[\"calves\"]"
   ]
  }
 ],
 "metadata": {
  "kernelspec": {
   "display_name": "Python 3 (ipykernel)",
   "language": "python",
   "name": "python3"
  },
  "language_info": {
   "codemirror_mode": {
    "name": "ipython",
    "version": 3
   },
   "file_extension": ".py",
   "mimetype": "text/x-python",
   "name": "python",
   "nbconvert_exporter": "python",
   "pygments_lexer": "ipython3",
   "version": "3.10.9"
  }
 },
 "nbformat": 4,
 "nbformat_minor": 5
}
